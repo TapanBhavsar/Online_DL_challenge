{
 "cells": [
  {
   "cell_type": "markdown",
   "metadata": {},
   "source": [
    "### Read data and preprocessing"
   ]
  },
  {
   "cell_type": "code",
   "execution_count": 1,
   "metadata": {},
   "outputs": [],
   "source": [
    "import xml.etree.ElementTree as ET\n",
    "tree = ET.parse('annotations.xml')\n",
    "root = tree.getroot()"
   ]
  },
  {
   "cell_type": "code",
   "execution_count": 2,
   "metadata": {},
   "outputs": [
    {
     "data": {
      "text/plain": [
       "'annotations'"
      ]
     },
     "execution_count": 2,
     "metadata": {},
     "output_type": "execute_result"
    }
   ],
   "source": [
    "root.tag"
   ]
  },
  {
   "cell_type": "code",
   "execution_count": 3,
   "metadata": {},
   "outputs": [],
   "source": [
    "helmet = {\"yes\":0, \"no\": 1}\n",
    "mask = {\"yes\":0, \"no\": 1, \"invisible\":2, \"wrong\":3}\n",
    "\n",
    "def switch_case(helmet_status, mask_status):\n",
    "    if helmet_status == 0 and mask_status == 0:\n",
    "        return 0\n",
    "    elif helmet_status == 0 and mask_status == 1:\n",
    "        return 1\n",
    "    elif helmet_status == 0 and mask_status == 2:\n",
    "        return 2\n",
    "    elif helmet_status == 0 and mask_status == 3:\n",
    "        return 3\n",
    "    elif helmet_status == 1 and mask_status == 0:\n",
    "        return 4\n",
    "    elif helmet_status == 1 and mask_status == 1:\n",
    "        return 5\n",
    "    elif helmet_status == 1 and mask_status == 2:\n",
    "        return 6\n",
    "    elif helmet_status == 1 and mask_status == 3:\n",
    "        return 7"
   ]
  },
  {
   "cell_type": "code",
   "execution_count": 4,
   "metadata": {},
   "outputs": [],
   "source": [
    "import cv2"
   ]
  },
  {
   "cell_type": "code",
   "execution_count": 5,
   "metadata": {},
   "outputs": [],
   "source": [
    "X = []\n",
    "Y = []\n",
    "for child in root.iter('image'):\n",
    "    name = child.get('id') + \".jpg\"\n",
    "    img = cv2.imread(\"images/\"+ name)\n",
    "    rgb_img = cv2.cvtColor(img, cv2.COLOR_BGR2RGB)\n",
    "    for box_child in child.findall('box'):\n",
    "        class_name = box_child.get(\"label\")\n",
    "        if class_name == \"head\":\n",
    "            x1 = int(float(box_child.get(\"xtl\")))\n",
    "            y1 = int(float(box_child.get(\"ytl\")))\n",
    "            x2 = int(float(box_child.get(\"xbr\")))\n",
    "            y2 = int(float(box_child.get(\"ybr\")))\n",
    "            if (y2-y1) > 16 and (x2 -x1) > 16:\n",
    "                X.append(cv2.resize(rgb_img[y1:y2,x1:x2], (64, 64))/255.0)\n",
    "                label = [0] * len(helmet) * len(mask)\n",
    "                helmet_status = 0\n",
    "                mask_status = 0\n",
    "                for labels in box_child.iter(\"attribute\"):\n",
    "                    if labels.get(\"name\") == \"has_safety_helmet\":\n",
    "                        helmet_status = helmet[labels.text]\n",
    "                    elif labels.get(\"name\") == \"mask\":\n",
    "                        mask_status = mask[labels.text]\n",
    "                label[switch_case(helmet_status, mask_status)] = 1\n",
    "                Y.append(label)"
   ]
  },
  {
   "cell_type": "code",
   "execution_count": 6,
   "metadata": {},
   "outputs": [
    {
     "data": {
      "text/plain": [
       "995"
      ]
     },
     "execution_count": 6,
     "metadata": {},
     "output_type": "execute_result"
    }
   ],
   "source": [
    "len(X)"
   ]
  },
  {
   "cell_type": "code",
   "execution_count": 7,
   "metadata": {},
   "outputs": [
    {
     "data": {
      "text/plain": [
       "(64, 64, 3)"
      ]
     },
     "execution_count": 7,
     "metadata": {},
     "output_type": "execute_result"
    }
   ],
   "source": [
    "X[0].shape"
   ]
  },
  {
   "cell_type": "code",
   "execution_count": 8,
   "metadata": {},
   "outputs": [
    {
     "data": {
      "text/plain": [
       "<matplotlib.image.AxesImage at 0x7f8e60428b38>"
      ]
     },
     "execution_count": 8,
     "metadata": {},
     "output_type": "execute_result"
    }
   ],
   "source": [
    "from matplotlib import pyplot as plt\n",
    "plt.imshow(X[0])"
   ]
  },
  {
   "cell_type": "code",
   "execution_count": 9,
   "metadata": {},
   "outputs": [
    {
     "data": {
      "text/plain": [
       "[1, 0, 0, 0, 0, 0, 0, 0]"
      ]
     },
     "execution_count": 9,
     "metadata": {},
     "output_type": "execute_result"
    }
   ],
   "source": [
    "Y[0]"
   ]
  },
  {
   "cell_type": "code",
   "execution_count": 10,
   "metadata": {},
   "outputs": [
    {
     "data": {
      "text/plain": [
       "(995, 64, 64, 3)"
      ]
     },
     "execution_count": 10,
     "metadata": {},
     "output_type": "execute_result"
    }
   ],
   "source": [
    "import numpy as np\n",
    "np.array(X).shape"
   ]
  },
  {
   "cell_type": "code",
   "execution_count": 11,
   "metadata": {},
   "outputs": [],
   "source": [
    "from sklearn.model_selection import train_test_split\n",
    "X_train, X_test, Y_train, Y_test = train_test_split(X, Y, test_size=0.2)"
   ]
  },
  {
   "cell_type": "code",
   "execution_count": 12,
   "metadata": {},
   "outputs": [],
   "source": [
    "X_train, X_val, Y_train, Y_val = train_test_split(X_train, Y_train, test_size=0.2)"
   ]
  },
  {
   "cell_type": "code",
   "execution_count": 13,
   "metadata": {},
   "outputs": [
    {
     "name": "stdout",
     "output_type": "stream",
     "text": [
      "(636, 64, 64, 3)\n",
      "(636, 8)\n",
      "(160, 64, 64, 3)\n",
      "(160, 8)\n",
      "(199, 64, 64, 3)\n",
      "(199, 8)\n"
     ]
    }
   ],
   "source": [
    "print(np.array(X_train).shape)\n",
    "print(np.array(Y_train).shape)\n",
    "print(np.array(X_val).shape)\n",
    "print(np.array(Y_val).shape)\n",
    "print(np.array(X_test).shape)\n",
    "print(np.array(Y_test).shape)"
   ]
  },
  {
   "cell_type": "markdown",
   "metadata": {},
   "source": [
    "### Build a classification model"
   ]
  },
  {
   "cell_type": "code",
   "execution_count": 14,
   "metadata": {},
   "outputs": [
    {
     "name": "stderr",
     "output_type": "stream",
     "text": [
      "Using TensorFlow backend.\n",
      "/home/tapan/anaconda3/envs/mask_rcnn/lib/python3.5/site-packages/tensorflow/python/framework/dtypes.py:516: FutureWarning: Passing (type, 1) or '1type' as a synonym of type is deprecated; in a future version of numpy, it will be understood as (type, (1,)) / '(1,)type'.\n",
      "  _np_qint8 = np.dtype([(\"qint8\", np.int8, 1)])\n",
      "/home/tapan/anaconda3/envs/mask_rcnn/lib/python3.5/site-packages/tensorflow/python/framework/dtypes.py:517: FutureWarning: Passing (type, 1) or '1type' as a synonym of type is deprecated; in a future version of numpy, it will be understood as (type, (1,)) / '(1,)type'.\n",
      "  _np_quint8 = np.dtype([(\"quint8\", np.uint8, 1)])\n",
      "/home/tapan/anaconda3/envs/mask_rcnn/lib/python3.5/site-packages/tensorflow/python/framework/dtypes.py:518: FutureWarning: Passing (type, 1) or '1type' as a synonym of type is deprecated; in a future version of numpy, it will be understood as (type, (1,)) / '(1,)type'.\n",
      "  _np_qint16 = np.dtype([(\"qint16\", np.int16, 1)])\n",
      "/home/tapan/anaconda3/envs/mask_rcnn/lib/python3.5/site-packages/tensorflow/python/framework/dtypes.py:519: FutureWarning: Passing (type, 1) or '1type' as a synonym of type is deprecated; in a future version of numpy, it will be understood as (type, (1,)) / '(1,)type'.\n",
      "  _np_quint16 = np.dtype([(\"quint16\", np.uint16, 1)])\n",
      "/home/tapan/anaconda3/envs/mask_rcnn/lib/python3.5/site-packages/tensorflow/python/framework/dtypes.py:520: FutureWarning: Passing (type, 1) or '1type' as a synonym of type is deprecated; in a future version of numpy, it will be understood as (type, (1,)) / '(1,)type'.\n",
      "  _np_qint32 = np.dtype([(\"qint32\", np.int32, 1)])\n",
      "/home/tapan/anaconda3/envs/mask_rcnn/lib/python3.5/site-packages/tensorflow/python/framework/dtypes.py:525: FutureWarning: Passing (type, 1) or '1type' as a synonym of type is deprecated; in a future version of numpy, it will be understood as (type, (1,)) / '(1,)type'.\n",
      "  np_resource = np.dtype([(\"resource\", np.ubyte, 1)])\n",
      "/home/tapan/anaconda3/envs/mask_rcnn/lib/python3.5/site-packages/tensorboard/compat/tensorflow_stub/dtypes.py:541: FutureWarning: Passing (type, 1) or '1type' as a synonym of type is deprecated; in a future version of numpy, it will be understood as (type, (1,)) / '(1,)type'.\n",
      "  _np_qint8 = np.dtype([(\"qint8\", np.int8, 1)])\n",
      "/home/tapan/anaconda3/envs/mask_rcnn/lib/python3.5/site-packages/tensorboard/compat/tensorflow_stub/dtypes.py:542: FutureWarning: Passing (type, 1) or '1type' as a synonym of type is deprecated; in a future version of numpy, it will be understood as (type, (1,)) / '(1,)type'.\n",
      "  _np_quint8 = np.dtype([(\"quint8\", np.uint8, 1)])\n",
      "/home/tapan/anaconda3/envs/mask_rcnn/lib/python3.5/site-packages/tensorboard/compat/tensorflow_stub/dtypes.py:543: FutureWarning: Passing (type, 1) or '1type' as a synonym of type is deprecated; in a future version of numpy, it will be understood as (type, (1,)) / '(1,)type'.\n",
      "  _np_qint16 = np.dtype([(\"qint16\", np.int16, 1)])\n",
      "/home/tapan/anaconda3/envs/mask_rcnn/lib/python3.5/site-packages/tensorboard/compat/tensorflow_stub/dtypes.py:544: FutureWarning: Passing (type, 1) or '1type' as a synonym of type is deprecated; in a future version of numpy, it will be understood as (type, (1,)) / '(1,)type'.\n",
      "  _np_quint16 = np.dtype([(\"quint16\", np.uint16, 1)])\n",
      "/home/tapan/anaconda3/envs/mask_rcnn/lib/python3.5/site-packages/tensorboard/compat/tensorflow_stub/dtypes.py:545: FutureWarning: Passing (type, 1) or '1type' as a synonym of type is deprecated; in a future version of numpy, it will be understood as (type, (1,)) / '(1,)type'.\n",
      "  _np_qint32 = np.dtype([(\"qint32\", np.int32, 1)])\n",
      "/home/tapan/anaconda3/envs/mask_rcnn/lib/python3.5/site-packages/tensorboard/compat/tensorflow_stub/dtypes.py:550: FutureWarning: Passing (type, 1) or '1type' as a synonym of type is deprecated; in a future version of numpy, it will be understood as (type, (1,)) / '(1,)type'.\n",
      "  np_resource = np.dtype([(\"resource\", np.ubyte, 1)])\n"
     ]
    }
   ],
   "source": [
    "from keras.models import Sequential\n",
    "from keras.layers import Convolution2D, MaxPooling2D, Dropout, Flatten, Dense, Activation\n",
    "from keras import optimizers"
   ]
  },
  {
   "cell_type": "code",
   "execution_count": 31,
   "metadata": {},
   "outputs": [
    {
     "name": "stderr",
     "output_type": "stream",
     "text": [
      "/home/tapan/anaconda3/envs/mask_rcnn/lib/python3.5/site-packages/ipykernel_launcher.py:2: UserWarning: Update your `Conv2D` call to the Keras 2 API: `Conv2D(16, (3, 3), input_shape=(64, 64, 3...)`\n",
      "  \n",
      "/home/tapan/anaconda3/envs/mask_rcnn/lib/python3.5/site-packages/ipykernel_launcher.py:6: UserWarning: Update your `Conv2D` call to the Keras 2 API: `Conv2D(32, (3, 3))`\n",
      "  \n",
      "/home/tapan/anaconda3/envs/mask_rcnn/lib/python3.5/site-packages/ipykernel_launcher.py:10: UserWarning: Update your `Conv2D` call to the Keras 2 API: `Conv2D(64, (3, 3))`\n",
      "  # Remove the CWD from sys.path while we load stuff.\n"
     ]
    }
   ],
   "source": [
    "model = Sequential()\n",
    "model.add(Convolution2D(16, 3, 3, input_shape=(64,64,3)))\n",
    "model.add(Activation(\"relu\"))\n",
    "model.add(MaxPooling2D(pool_size=(2, 2)))\n",
    "\n",
    "model.add(Convolution2D(32, 3, 3))\n",
    "model.add(Activation(\"relu\"))\n",
    "model.add(MaxPooling2D(pool_size=(2, 2)))\n",
    "\n",
    "model.add(Convolution2D(64, 3, 3))\n",
    "model.add(Activation(\"relu\"))\n",
    "model.add(MaxPooling2D(pool_size=(2, 2)))\n",
    "\n",
    "model.add(Flatten())\n",
    "model.add(Dense(512))\n",
    "model.add(Activation(\"relu\"))\n",
    "model.add(Dropout(0.2))\n",
    "\n",
    "model.add(Dense(8,activation = \"softmax\"))"
   ]
  },
  {
   "cell_type": "code",
   "execution_count": 32,
   "metadata": {},
   "outputs": [],
   "source": [
    "model.compile(loss='categorical_crossentropy',optimizer=optimizers.Adam(lr=0.01),metrics=['accuracy'])"
   ]
  },
  {
   "cell_type": "markdown",
   "metadata": {},
   "source": [
    "### Model training"
   ]
  },
  {
   "cell_type": "code",
   "execution_count": 33,
   "metadata": {},
   "outputs": [
    {
     "name": "stdout",
     "output_type": "stream",
     "text": [
      "Train on 636 samples, validate on 160 samples\n",
      "Epoch 1/20\n",
      "636/636 [==============================] - 1s 2ms/step - loss: 2.4007 - accuracy: 0.2374 - val_loss: 1.6189 - val_accuracy: 0.3438\n",
      "Epoch 2/20\n",
      "636/636 [==============================] - 1s 2ms/step - loss: 1.7123 - accuracy: 0.2814 - val_loss: 1.6199 - val_accuracy: 0.3313\n",
      "Epoch 3/20\n",
      "636/636 [==============================] - 1s 1ms/step - loss: 1.6976 - accuracy: 0.3365 - val_loss: 1.5206 - val_accuracy: 0.4000\n",
      "Epoch 4/20\n",
      "636/636 [==============================] - 1s 2ms/step - loss: 1.5643 - accuracy: 0.3836 - val_loss: 1.4745 - val_accuracy: 0.4187\n",
      "Epoch 5/20\n",
      "636/636 [==============================] - 1s 1ms/step - loss: 1.4808 - accuracy: 0.4167 - val_loss: 1.4230 - val_accuracy: 0.4688\n",
      "Epoch 6/20\n",
      "636/636 [==============================] - 1s 1ms/step - loss: 1.4133 - accuracy: 0.4198 - val_loss: 1.4696 - val_accuracy: 0.4125\n",
      "Epoch 7/20\n",
      "636/636 [==============================] - 1s 1ms/step - loss: 1.3720 - accuracy: 0.4638 - val_loss: 1.3382 - val_accuracy: 0.4875\n",
      "Epoch 8/20\n",
      "636/636 [==============================] - 1s 1ms/step - loss: 1.3135 - accuracy: 0.4780 - val_loss: 1.3301 - val_accuracy: 0.4750\n",
      "Epoch 9/20\n",
      "636/636 [==============================] - 1s 1ms/step - loss: 1.2507 - accuracy: 0.5000 - val_loss: 1.3453 - val_accuracy: 0.4500\n",
      "Epoch 10/20\n",
      "636/636 [==============================] - 1s 1ms/step - loss: 1.2251 - accuracy: 0.5189 - val_loss: 1.4516 - val_accuracy: 0.4688\n",
      "Epoch 11/20\n",
      "636/636 [==============================] - 1s 1ms/step - loss: 1.2037 - accuracy: 0.5110 - val_loss: 1.3990 - val_accuracy: 0.4500\n",
      "Epoch 12/20\n",
      "636/636 [==============================] - 1s 1ms/step - loss: 1.1176 - accuracy: 0.5597 - val_loss: 1.3581 - val_accuracy: 0.5437\n",
      "Epoch 13/20\n",
      "636/636 [==============================] - 1s 1ms/step - loss: 1.1011 - accuracy: 0.5645 - val_loss: 1.4181 - val_accuracy: 0.4750\n",
      "Epoch 14/20\n",
      "636/636 [==============================] - 1s 1ms/step - loss: 0.9904 - accuracy: 0.5959 - val_loss: 1.4976 - val_accuracy: 0.4000\n",
      "Epoch 15/20\n",
      "636/636 [==============================] - 1s 1ms/step - loss: 0.9359 - accuracy: 0.6226 - val_loss: 1.6651 - val_accuracy: 0.4250\n",
      "Epoch 16/20\n",
      "636/636 [==============================] - 1s 1ms/step - loss: 0.9199 - accuracy: 0.6226 - val_loss: 1.6721 - val_accuracy: 0.4688\n",
      "Epoch 17/20\n",
      "636/636 [==============================] - 1s 2ms/step - loss: 0.8054 - accuracy: 0.6745 - val_loss: 1.6955 - val_accuracy: 0.4062\n",
      "Epoch 18/20\n",
      "636/636 [==============================] - 1s 2ms/step - loss: 0.6971 - accuracy: 0.7343 - val_loss: 2.0895 - val_accuracy: 0.4688\n",
      "Epoch 19/20\n",
      "636/636 [==============================] - 1s 1ms/step - loss: 0.7080 - accuracy: 0.7390 - val_loss: 2.1893 - val_accuracy: 0.3375\n",
      "Epoch 20/20\n",
      "636/636 [==============================] - 1s 2ms/step - loss: 0.6710 - accuracy: 0.7343 - val_loss: 2.0760 - val_accuracy: 0.4375\n"
     ]
    },
    {
     "data": {
      "text/plain": [
       "<keras.callbacks.callbacks.History at 0x7f8e075a5160>"
      ]
     },
     "execution_count": 33,
     "metadata": {},
     "output_type": "execute_result"
    }
   ],
   "source": [
    "model.fit(np.array(X_train),np.array(Y_train), batch_size = 32, epochs=20, verbose=1, validation_data=(np.array(X_val),np.array(Y_val)), shuffle = True)"
   ]
  },
  {
   "cell_type": "markdown",
   "metadata": {},
   "source": [
    "### Evaluation"
   ]
  },
  {
   "cell_type": "code",
   "execution_count": 34,
   "metadata": {
    "scrolled": true
   },
   "outputs": [
    {
     "name": "stdout",
     "output_type": "stream",
     "text": [
      "199/199 [==============================] - 0s 509us/step\n"
     ]
    },
    {
     "data": {
      "text/plain": [
       "[2.051135962931954, 0.4271356761455536]"
      ]
     },
     "execution_count": 34,
     "metadata": {},
     "output_type": "execute_result"
    }
   ],
   "source": [
    "model.evaluate(np.array(X_test), np.array(Y_test))"
   ]
  },
  {
   "cell_type": "code",
   "execution_count": 35,
   "metadata": {},
   "outputs": [],
   "source": [
    "y_pred = model.predict(np.array(X_test))"
   ]
  },
  {
   "cell_type": "code",
   "execution_count": 36,
   "metadata": {},
   "outputs": [],
   "source": [
    "y_prediction = np.argmax(y_pred, axis=1)"
   ]
  },
  {
   "cell_type": "code",
   "execution_count": 37,
   "metadata": {},
   "outputs": [],
   "source": [
    "y_actual = np.argmax(np.array(Y_test), axis=1)"
   ]
  },
  {
   "cell_type": "code",
   "execution_count": 38,
   "metadata": {},
   "outputs": [
    {
     "data": {
      "text/plain": [
       "array([[18, 10,  4, 13,  2,  2],\n",
       "       [ 7, 34, 10,  8,  0,  2],\n",
       "       [ 1, 12, 13,  1,  0,  3],\n",
       "       [ 3,  3,  0, 15,  0,  0],\n",
       "       [ 1,  4,  5,  4,  0,  6],\n",
       "       [ 4,  3,  0,  3,  3,  5]])"
      ]
     },
     "execution_count": 38,
     "metadata": {},
     "output_type": "execute_result"
    }
   ],
   "source": [
    "from sklearn.metrics import classification_report, confusion_matrix\n",
    "confusion_matrix(y_actual, y_prediction)"
   ]
  },
  {
   "cell_type": "markdown",
   "metadata": {},
   "source": [
    "### justification for evaluation matric"
   ]
  },
  {
   "cell_type": "markdown",
   "metadata": {},
   "source": [
    "As per the data disribution, most of the classes are about wearing **mask status (yes , no)**, **sometimes invisible** and **rarely wrong**. For helmet status (yes , no) is equally distribute.\n",
    "\n",
    "After merging these two status, 8 classes can be extracted by encoding two status.\n",
    "\n",
    "So, due to data imbalance confusion matrix has been used."
   ]
  },
  {
   "cell_type": "code",
   "execution_count": null,
   "metadata": {},
   "outputs": [],
   "source": []
  }
 ],
 "metadata": {
  "kernelspec": {
   "display_name": "Python 3",
   "language": "python",
   "name": "python3"
  },
  "language_info": {
   "codemirror_mode": {
    "name": "ipython",
    "version": 3
   },
   "file_extension": ".py",
   "mimetype": "text/x-python",
   "name": "python",
   "nbconvert_exporter": "python",
   "pygments_lexer": "ipython3",
   "version": "3.5.6"
  }
 },
 "nbformat": 4,
 "nbformat_minor": 5
}
